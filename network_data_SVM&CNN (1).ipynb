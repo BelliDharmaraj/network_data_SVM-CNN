{
  "cells": [
    {
      "cell_type": "code",
      "execution_count": null,
      "metadata": {
        "id": "I0X4orH6bVjp"
      },
      "outputs": [],
      "source": [
        "import numpy as np # linear algebra\n",
        "import pandas as pd # data processing, CSV file I/O (e.g. pd.read_csv)\n",
        "import seaborn as sns\n",
        "import matplotlib.pyplot as plt\n",
        "# import warnings\n",
        "import warnings\n",
        "# filter warnings\n",
        "warnings.filterwarnings('ignore')\n"
      ]
    },
    {
      "cell_type": "code",
      "execution_count": null,
      "metadata": {
        "colab": {
          "base_uri": "https://localhost:8080/",
          "height": 35
        },
        "id": "j2eDhqE3cNvQ",
        "outputId": "b96224b8-981f-4bd6-b8ce-7f36a473fef3"
      },
      "outputs": [
        {
          "output_type": "execute_result",
          "data": {
            "text/plain": [
              "'/content'"
            ],
            "application/vnd.google.colaboratory.intrinsic+json": {
              "type": "string"
            }
          },
          "metadata": {},
          "execution_count": 5
        }
      ],
      "source": [
        "pwd"
      ]
    },
    {
      "cell_type": "code",
      "execution_count": null,
      "metadata": {
        "id": "Z3IkJ8KFcJlE"
      },
      "outputs": [],
      "source": [
        "df = pd.read_csv('/content/dataset_sdn.csv')"
      ]
    },
    {
      "cell_type": "code",
      "execution_count": null,
      "metadata": {
        "colab": {
          "base_uri": "https://localhost:8080/",
          "height": 300
        },
        "id": "8fVkEY2CcR5S",
        "outputId": "b23f9d2b-d8e5-4fa5-9c16-4b8aa97bc798"
      },
      "outputs": [
        {
          "output_type": "execute_result",
          "data": {
            "text/plain": [
              "      dt  switch       src       dst  pktcount  bytecount  dur   dur_nsec  \\\n",
              "0  11425       1  10.0.0.1  10.0.0.8     45304   48294064  100  716000000   \n",
              "1  11605       1  10.0.0.1  10.0.0.8    126395  134737070  280  734000000   \n",
              "2  11425       1  10.0.0.2  10.0.0.8     90333   96294978  200  744000000   \n",
              "3  11425       1  10.0.0.2  10.0.0.8     90333   96294978  200  744000000   \n",
              "4  11425       1  10.0.0.2  10.0.0.8     90333   96294978  200  744000000   \n",
              "\n",
              "        tot_dur  flows  ...  pktrate  Pairflow  Protocol  port_no   tx_bytes  \\\n",
              "0  1.010000e+11      3  ...      451         0       UDP        3  143928631   \n",
              "1  2.810000e+11      2  ...      451         0       UDP        4       3842   \n",
              "2  2.010000e+11      3  ...      451         0       UDP        1       3795   \n",
              "3  2.010000e+11      3  ...      451         0       UDP        2       3688   \n",
              "4  2.010000e+11      3  ...      451         0       UDP        3       3413   \n",
              "\n",
              "  rx_bytes  tx_kbps  rx_kbps  tot_kbps  label  \n",
              "0     3917        0      0.0       0.0      0  \n",
              "1     3520        0      0.0       0.0      0  \n",
              "2     1242        0      0.0       0.0      0  \n",
              "3     1492        0      0.0       0.0      0  \n",
              "4     3665        0      0.0       0.0      0  \n",
              "\n",
              "[5 rows x 23 columns]"
            ],
            "text/html": [
              "\n",
              "  <div id=\"df-474ec9dd-b958-4ae5-84a1-a1e5d8c9362c\">\n",
              "    <div class=\"colab-df-container\">\n",
              "      <div>\n",
              "<style scoped>\n",
              "    .dataframe tbody tr th:only-of-type {\n",
              "        vertical-align: middle;\n",
              "    }\n",
              "\n",
              "    .dataframe tbody tr th {\n",
              "        vertical-align: top;\n",
              "    }\n",
              "\n",
              "    .dataframe thead th {\n",
              "        text-align: right;\n",
              "    }\n",
              "</style>\n",
              "<table border=\"1\" class=\"dataframe\">\n",
              "  <thead>\n",
              "    <tr style=\"text-align: right;\">\n",
              "      <th></th>\n",
              "      <th>dt</th>\n",
              "      <th>switch</th>\n",
              "      <th>src</th>\n",
              "      <th>dst</th>\n",
              "      <th>pktcount</th>\n",
              "      <th>bytecount</th>\n",
              "      <th>dur</th>\n",
              "      <th>dur_nsec</th>\n",
              "      <th>tot_dur</th>\n",
              "      <th>flows</th>\n",
              "      <th>...</th>\n",
              "      <th>pktrate</th>\n",
              "      <th>Pairflow</th>\n",
              "      <th>Protocol</th>\n",
              "      <th>port_no</th>\n",
              "      <th>tx_bytes</th>\n",
              "      <th>rx_bytes</th>\n",
              "      <th>tx_kbps</th>\n",
              "      <th>rx_kbps</th>\n",
              "      <th>tot_kbps</th>\n",
              "      <th>label</th>\n",
              "    </tr>\n",
              "  </thead>\n",
              "  <tbody>\n",
              "    <tr>\n",
              "      <th>0</th>\n",
              "      <td>11425</td>\n",
              "      <td>1</td>\n",
              "      <td>10.0.0.1</td>\n",
              "      <td>10.0.0.8</td>\n",
              "      <td>45304</td>\n",
              "      <td>48294064</td>\n",
              "      <td>100</td>\n",
              "      <td>716000000</td>\n",
              "      <td>1.010000e+11</td>\n",
              "      <td>3</td>\n",
              "      <td>...</td>\n",
              "      <td>451</td>\n",
              "      <td>0</td>\n",
              "      <td>UDP</td>\n",
              "      <td>3</td>\n",
              "      <td>143928631</td>\n",
              "      <td>3917</td>\n",
              "      <td>0</td>\n",
              "      <td>0.0</td>\n",
              "      <td>0.0</td>\n",
              "      <td>0</td>\n",
              "    </tr>\n",
              "    <tr>\n",
              "      <th>1</th>\n",
              "      <td>11605</td>\n",
              "      <td>1</td>\n",
              "      <td>10.0.0.1</td>\n",
              "      <td>10.0.0.8</td>\n",
              "      <td>126395</td>\n",
              "      <td>134737070</td>\n",
              "      <td>280</td>\n",
              "      <td>734000000</td>\n",
              "      <td>2.810000e+11</td>\n",
              "      <td>2</td>\n",
              "      <td>...</td>\n",
              "      <td>451</td>\n",
              "      <td>0</td>\n",
              "      <td>UDP</td>\n",
              "      <td>4</td>\n",
              "      <td>3842</td>\n",
              "      <td>3520</td>\n",
              "      <td>0</td>\n",
              "      <td>0.0</td>\n",
              "      <td>0.0</td>\n",
              "      <td>0</td>\n",
              "    </tr>\n",
              "    <tr>\n",
              "      <th>2</th>\n",
              "      <td>11425</td>\n",
              "      <td>1</td>\n",
              "      <td>10.0.0.2</td>\n",
              "      <td>10.0.0.8</td>\n",
              "      <td>90333</td>\n",
              "      <td>96294978</td>\n",
              "      <td>200</td>\n",
              "      <td>744000000</td>\n",
              "      <td>2.010000e+11</td>\n",
              "      <td>3</td>\n",
              "      <td>...</td>\n",
              "      <td>451</td>\n",
              "      <td>0</td>\n",
              "      <td>UDP</td>\n",
              "      <td>1</td>\n",
              "      <td>3795</td>\n",
              "      <td>1242</td>\n",
              "      <td>0</td>\n",
              "      <td>0.0</td>\n",
              "      <td>0.0</td>\n",
              "      <td>0</td>\n",
              "    </tr>\n",
              "    <tr>\n",
              "      <th>3</th>\n",
              "      <td>11425</td>\n",
              "      <td>1</td>\n",
              "      <td>10.0.0.2</td>\n",
              "      <td>10.0.0.8</td>\n",
              "      <td>90333</td>\n",
              "      <td>96294978</td>\n",
              "      <td>200</td>\n",
              "      <td>744000000</td>\n",
              "      <td>2.010000e+11</td>\n",
              "      <td>3</td>\n",
              "      <td>...</td>\n",
              "      <td>451</td>\n",
              "      <td>0</td>\n",
              "      <td>UDP</td>\n",
              "      <td>2</td>\n",
              "      <td>3688</td>\n",
              "      <td>1492</td>\n",
              "      <td>0</td>\n",
              "      <td>0.0</td>\n",
              "      <td>0.0</td>\n",
              "      <td>0</td>\n",
              "    </tr>\n",
              "    <tr>\n",
              "      <th>4</th>\n",
              "      <td>11425</td>\n",
              "      <td>1</td>\n",
              "      <td>10.0.0.2</td>\n",
              "      <td>10.0.0.8</td>\n",
              "      <td>90333</td>\n",
              "      <td>96294978</td>\n",
              "      <td>200</td>\n",
              "      <td>744000000</td>\n",
              "      <td>2.010000e+11</td>\n",
              "      <td>3</td>\n",
              "      <td>...</td>\n",
              "      <td>451</td>\n",
              "      <td>0</td>\n",
              "      <td>UDP</td>\n",
              "      <td>3</td>\n",
              "      <td>3413</td>\n",
              "      <td>3665</td>\n",
              "      <td>0</td>\n",
              "      <td>0.0</td>\n",
              "      <td>0.0</td>\n",
              "      <td>0</td>\n",
              "    </tr>\n",
              "  </tbody>\n",
              "</table>\n",
              "<p>5 rows × 23 columns</p>\n",
              "</div>\n",
              "      <button class=\"colab-df-convert\" onclick=\"convertToInteractive('df-474ec9dd-b958-4ae5-84a1-a1e5d8c9362c')\"\n",
              "              title=\"Convert this dataframe to an interactive table.\"\n",
              "              style=\"display:none;\">\n",
              "        \n",
              "  <svg xmlns=\"http://www.w3.org/2000/svg\" height=\"24px\"viewBox=\"0 0 24 24\"\n",
              "       width=\"24px\">\n",
              "    <path d=\"M0 0h24v24H0V0z\" fill=\"none\"/>\n",
              "    <path d=\"M18.56 5.44l.94 2.06.94-2.06 2.06-.94-2.06-.94-.94-2.06-.94 2.06-2.06.94zm-11 1L8.5 8.5l.94-2.06 2.06-.94-2.06-.94L8.5 2.5l-.94 2.06-2.06.94zm10 10l.94 2.06.94-2.06 2.06-.94-2.06-.94-.94-2.06-.94 2.06-2.06.94z\"/><path d=\"M17.41 7.96l-1.37-1.37c-.4-.4-.92-.59-1.43-.59-.52 0-1.04.2-1.43.59L10.3 9.45l-7.72 7.72c-.78.78-.78 2.05 0 2.83L4 21.41c.39.39.9.59 1.41.59.51 0 1.02-.2 1.41-.59l7.78-7.78 2.81-2.81c.8-.78.8-2.07 0-2.86zM5.41 20L4 18.59l7.72-7.72 1.47 1.35L5.41 20z\"/>\n",
              "  </svg>\n",
              "      </button>\n",
              "      \n",
              "  <style>\n",
              "    .colab-df-container {\n",
              "      display:flex;\n",
              "      flex-wrap:wrap;\n",
              "      gap: 12px;\n",
              "    }\n",
              "\n",
              "    .colab-df-convert {\n",
              "      background-color: #E8F0FE;\n",
              "      border: none;\n",
              "      border-radius: 50%;\n",
              "      cursor: pointer;\n",
              "      display: none;\n",
              "      fill: #1967D2;\n",
              "      height: 32px;\n",
              "      padding: 0 0 0 0;\n",
              "      width: 32px;\n",
              "    }\n",
              "\n",
              "    .colab-df-convert:hover {\n",
              "      background-color: #E2EBFA;\n",
              "      box-shadow: 0px 1px 2px rgba(60, 64, 67, 0.3), 0px 1px 3px 1px rgba(60, 64, 67, 0.15);\n",
              "      fill: #174EA6;\n",
              "    }\n",
              "\n",
              "    [theme=dark] .colab-df-convert {\n",
              "      background-color: #3B4455;\n",
              "      fill: #D2E3FC;\n",
              "    }\n",
              "\n",
              "    [theme=dark] .colab-df-convert:hover {\n",
              "      background-color: #434B5C;\n",
              "      box-shadow: 0px 1px 3px 1px rgba(0, 0, 0, 0.15);\n",
              "      filter: drop-shadow(0px 1px 2px rgba(0, 0, 0, 0.3));\n",
              "      fill: #FFFFFF;\n",
              "    }\n",
              "  </style>\n",
              "\n",
              "      <script>\n",
              "        const buttonEl =\n",
              "          document.querySelector('#df-474ec9dd-b958-4ae5-84a1-a1e5d8c9362c button.colab-df-convert');\n",
              "        buttonEl.style.display =\n",
              "          google.colab.kernel.accessAllowed ? 'block' : 'none';\n",
              "\n",
              "        async function convertToInteractive(key) {\n",
              "          const element = document.querySelector('#df-474ec9dd-b958-4ae5-84a1-a1e5d8c9362c');\n",
              "          const dataTable =\n",
              "            await google.colab.kernel.invokeFunction('convertToInteractive',\n",
              "                                                     [key], {});\n",
              "          if (!dataTable) return;\n",
              "\n",
              "          const docLinkHtml = 'Like what you see? Visit the ' +\n",
              "            '<a target=\"_blank\" href=https://colab.research.google.com/notebooks/data_table.ipynb>data table notebook</a>'\n",
              "            + ' to learn more about interactive tables.';\n",
              "          element.innerHTML = '';\n",
              "          dataTable['output_type'] = 'display_data';\n",
              "          await google.colab.output.renderOutput(dataTable, element);\n",
              "          const docLink = document.createElement('div');\n",
              "          docLink.innerHTML = docLinkHtml;\n",
              "          element.appendChild(docLink);\n",
              "        }\n",
              "      </script>\n",
              "    </div>\n",
              "  </div>\n",
              "  "
            ]
          },
          "metadata": {},
          "execution_count": 10
        }
      ],
      "source": [
        "df.head()"
      ]
    },
    {
      "cell_type": "code",
      "execution_count": null,
      "metadata": {
        "colab": {
          "base_uri": "https://localhost:8080/"
        },
        "id": "NgbsZCmGcUGT",
        "outputId": "89a491fa-c280-40c8-f987-1bb21b72b2dc"
      },
      "outputs": [
        {
          "output_type": "execute_result",
          "data": {
            "text/plain": [
              "dt               0\n",
              "switch           0\n",
              "src              0\n",
              "dst              0\n",
              "pktcount         0\n",
              "bytecount        0\n",
              "dur              0\n",
              "dur_nsec         0\n",
              "tot_dur          0\n",
              "flows            0\n",
              "packetins        0\n",
              "pktperflow       0\n",
              "byteperflow      0\n",
              "pktrate          0\n",
              "Pairflow         0\n",
              "Protocol         0\n",
              "port_no          0\n",
              "tx_bytes         0\n",
              "rx_bytes         0\n",
              "tx_kbps          0\n",
              "rx_kbps        506\n",
              "tot_kbps       506\n",
              "label            0\n",
              "dtype: int64"
            ]
          },
          "metadata": {},
          "execution_count": 11
        }
      ],
      "source": [
        "df.isnull().sum()"
      ]
    },
    {
      "cell_type": "code",
      "execution_count": null,
      "metadata": {
        "colab": {
          "base_uri": "https://localhost:8080/"
        },
        "id": "-ouZxnNJcXfj",
        "outputId": "0039ef1e-2266-4d95-bd44-336903bb68a9"
      },
      "outputs": [
        {
          "output_type": "stream",
          "name": "stdout",
          "text": [
            "<class 'pandas.core.frame.DataFrame'>\n",
            "RangeIndex: 104345 entries, 0 to 104344\n",
            "Data columns (total 23 columns):\n",
            " #   Column       Non-Null Count   Dtype  \n",
            "---  ------       --------------   -----  \n",
            " 0   dt           104345 non-null  int64  \n",
            " 1   switch       104345 non-null  int64  \n",
            " 2   src          104345 non-null  object \n",
            " 3   dst          104345 non-null  object \n",
            " 4   pktcount     104345 non-null  int64  \n",
            " 5   bytecount    104345 non-null  int64  \n",
            " 6   dur          104345 non-null  int64  \n",
            " 7   dur_nsec     104345 non-null  int64  \n",
            " 8   tot_dur      104345 non-null  float64\n",
            " 9   flows        104345 non-null  int64  \n",
            " 10  packetins    104345 non-null  int64  \n",
            " 11  pktperflow   104345 non-null  int64  \n",
            " 12  byteperflow  104345 non-null  int64  \n",
            " 13  pktrate      104345 non-null  int64  \n",
            " 14  Pairflow     104345 non-null  int64  \n",
            " 15  Protocol     104345 non-null  object \n",
            " 16  port_no      104345 non-null  int64  \n",
            " 17  tx_bytes     104345 non-null  int64  \n",
            " 18  rx_bytes     104345 non-null  int64  \n",
            " 19  tx_kbps      104345 non-null  int64  \n",
            " 20  rx_kbps      103839 non-null  float64\n",
            " 21  tot_kbps     103839 non-null  float64\n",
            " 22  label        104345 non-null  int64  \n",
            "dtypes: float64(3), int64(17), object(3)\n",
            "memory usage: 18.3+ MB\n"
          ]
        }
      ],
      "source": [
        "df.info()"
      ]
    },
    {
      "cell_type": "code",
      "execution_count": null,
      "metadata": {
        "colab": {
          "base_uri": "https://localhost:8080/"
        },
        "id": "cjulANA-cZLZ",
        "outputId": "7273378e-12e8-4d3f-e1c8-8977187c1f41"
      },
      "outputs": [
        {
          "output_type": "execute_result",
          "data": {
            "text/plain": [
              "(104345, 23)"
            ]
          },
          "metadata": {},
          "execution_count": 13
        }
      ],
      "source": [
        "df.shape"
      ]
    },
    {
      "cell_type": "code",
      "execution_count": null,
      "metadata": {
        "colab": {
          "base_uri": "https://localhost:8080/"
        },
        "id": "8Ld9vcwDdSZl",
        "outputId": "b17c36e2-f73f-4fbf-cc85-d0839c10845d"
      },
      "outputs": [
        {
          "output_type": "execute_result",
          "data": {
            "text/plain": [
              "Index(['dt', 'switch', 'src', 'dst', 'pktcount', 'bytecount', 'dur',\n",
              "       'dur_nsec', 'tot_dur', 'flows', 'packetins', 'pktperflow',\n",
              "       'byteperflow', 'pktrate', 'Pairflow', 'Protocol', 'port_no', 'tx_bytes',\n",
              "       'rx_bytes', 'tx_kbps', 'rx_kbps', 'tot_kbps', 'label'],\n",
              "      dtype='object')"
            ]
          },
          "metadata": {},
          "execution_count": 14
        }
      ],
      "source": [
        "df.columns"
      ]
    },
    {
      "cell_type": "code",
      "execution_count": null,
      "metadata": {
        "colab": {
          "base_uri": "https://localhost:8080/",
          "height": 364
        },
        "id": "NoJUXJgzm105",
        "outputId": "bcd74fa8-4084-4952-a7db-748bf1cfc893"
      },
      "outputs": [
        {
          "output_type": "execute_result",
          "data": {
            "text/plain": [
              "                  dt         switch       pktcount     bytecount  \\\n",
              "count  104345.000000  104345.000000  104345.000000  1.043450e+05   \n",
              "mean    17927.514169       4.214260   52860.954746  3.818660e+07   \n",
              "std     11977.642655       1.956327   52023.241460  4.877748e+07   \n",
              "min      2488.000000       1.000000       0.000000  0.000000e+00   \n",
              "25%      7098.000000       3.000000     808.000000  7.957600e+04   \n",
              "50%     11905.000000       4.000000   42828.000000  6.471930e+06   \n",
              "75%     29952.000000       5.000000   94796.000000  7.620354e+07   \n",
              "max     42935.000000      10.000000  260006.000000  1.471280e+08   \n",
              "\n",
              "                 dur      dur_nsec       tot_dur          flows  \\\n",
              "count  104345.000000  1.043450e+05  1.043450e+05  104345.000000   \n",
              "mean      321.497398  4.613880e+08  3.218865e+11       5.654234   \n",
              "std       283.518232  2.770019e+08  2.834029e+11       2.950036   \n",
              "min         0.000000  0.000000e+00  0.000000e+00       2.000000   \n",
              "25%       127.000000  2.340000e+08  1.270000e+11       3.000000   \n",
              "50%       251.000000  4.180000e+08  2.520000e+11       5.000000   \n",
              "75%       412.000000  7.030000e+08  4.130000e+11       7.000000   \n",
              "max      1881.000000  9.990000e+08  1.880000e+12      17.000000   \n",
              "\n",
              "           packetins     pktperflow   byteperflow        pktrate  \\\n",
              "count  104345.000000  104345.000000  1.043450e+05  104345.000000   \n",
              "mean     5200.383468    6381.715291  4.716150e+06     212.210676   \n",
              "std      5257.001450    7404.777808  7.560116e+06     246.855123   \n",
              "min         4.000000 -130933.000000 -1.464426e+08   -4365.000000   \n",
              "25%      1943.000000      29.000000  2.842000e+03       0.000000   \n",
              "50%      3024.000000    8305.000000  5.521680e+05     276.000000   \n",
              "75%      7462.000000   10017.000000  9.728112e+06     333.000000   \n",
              "max     25224.000000   19190.000000  1.495387e+07     639.000000   \n",
              "\n",
              "            Pairflow        port_no      tx_bytes      rx_bytes  \\\n",
              "count  104345.000000  104345.000000  1.043450e+05  1.043450e+05   \n",
              "mean        0.600987       2.331094  9.325264e+07  9.328039e+07   \n",
              "std         0.489698       1.084333  1.519380e+08  1.330004e+08   \n",
              "min         0.000000       1.000000  2.527000e+03  8.560000e+02   \n",
              "25%         0.000000       1.000000  4.743000e+03  3.539000e+03   \n",
              "50%         1.000000       2.000000  4.219610e+06  1.338339e+07   \n",
              "75%         1.000000       3.000000  1.356398e+08  1.439277e+08   \n",
              "max         1.000000       5.000000  1.269982e+09  9.905962e+08   \n",
              "\n",
              "             tx_kbps        rx_kbps       tot_kbps          label  \n",
              "count  104345.000000  103839.000000  103839.000000  104345.000000  \n",
              "mean      998.899756    1003.811420    2007.578742       0.390857  \n",
              "std      2423.471618    2054.887034    3144.437173       0.487945  \n",
              "min         0.000000       0.000000       0.000000       0.000000  \n",
              "25%         0.000000       0.000000       0.000000       0.000000  \n",
              "50%         0.000000       0.000000       4.000000       0.000000  \n",
              "75%       251.000000     557.000000    3838.000000       1.000000  \n",
              "max     20580.000000   16577.000000   20580.000000       1.000000  "
            ],
            "text/html": [
              "\n",
              "  <div id=\"df-d6fa73af-2093-4388-beba-cf6d99279d96\">\n",
              "    <div class=\"colab-df-container\">\n",
              "      <div>\n",
              "<style scoped>\n",
              "    .dataframe tbody tr th:only-of-type {\n",
              "        vertical-align: middle;\n",
              "    }\n",
              "\n",
              "    .dataframe tbody tr th {\n",
              "        vertical-align: top;\n",
              "    }\n",
              "\n",
              "    .dataframe thead th {\n",
              "        text-align: right;\n",
              "    }\n",
              "</style>\n",
              "<table border=\"1\" class=\"dataframe\">\n",
              "  <thead>\n",
              "    <tr style=\"text-align: right;\">\n",
              "      <th></th>\n",
              "      <th>dt</th>\n",
              "      <th>switch</th>\n",
              "      <th>pktcount</th>\n",
              "      <th>bytecount</th>\n",
              "      <th>dur</th>\n",
              "      <th>dur_nsec</th>\n",
              "      <th>tot_dur</th>\n",
              "      <th>flows</th>\n",
              "      <th>packetins</th>\n",
              "      <th>pktperflow</th>\n",
              "      <th>byteperflow</th>\n",
              "      <th>pktrate</th>\n",
              "      <th>Pairflow</th>\n",
              "      <th>port_no</th>\n",
              "      <th>tx_bytes</th>\n",
              "      <th>rx_bytes</th>\n",
              "      <th>tx_kbps</th>\n",
              "      <th>rx_kbps</th>\n",
              "      <th>tot_kbps</th>\n",
              "      <th>label</th>\n",
              "    </tr>\n",
              "  </thead>\n",
              "  <tbody>\n",
              "    <tr>\n",
              "      <th>count</th>\n",
              "      <td>104345.000000</td>\n",
              "      <td>104345.000000</td>\n",
              "      <td>104345.000000</td>\n",
              "      <td>1.043450e+05</td>\n",
              "      <td>104345.000000</td>\n",
              "      <td>1.043450e+05</td>\n",
              "      <td>1.043450e+05</td>\n",
              "      <td>104345.000000</td>\n",
              "      <td>104345.000000</td>\n",
              "      <td>104345.000000</td>\n",
              "      <td>1.043450e+05</td>\n",
              "      <td>104345.000000</td>\n",
              "      <td>104345.000000</td>\n",
              "      <td>104345.000000</td>\n",
              "      <td>1.043450e+05</td>\n",
              "      <td>1.043450e+05</td>\n",
              "      <td>104345.000000</td>\n",
              "      <td>103839.000000</td>\n",
              "      <td>103839.000000</td>\n",
              "      <td>104345.000000</td>\n",
              "    </tr>\n",
              "    <tr>\n",
              "      <th>mean</th>\n",
              "      <td>17927.514169</td>\n",
              "      <td>4.214260</td>\n",
              "      <td>52860.954746</td>\n",
              "      <td>3.818660e+07</td>\n",
              "      <td>321.497398</td>\n",
              "      <td>4.613880e+08</td>\n",
              "      <td>3.218865e+11</td>\n",
              "      <td>5.654234</td>\n",
              "      <td>5200.383468</td>\n",
              "      <td>6381.715291</td>\n",
              "      <td>4.716150e+06</td>\n",
              "      <td>212.210676</td>\n",
              "      <td>0.600987</td>\n",
              "      <td>2.331094</td>\n",
              "      <td>9.325264e+07</td>\n",
              "      <td>9.328039e+07</td>\n",
              "      <td>998.899756</td>\n",
              "      <td>1003.811420</td>\n",
              "      <td>2007.578742</td>\n",
              "      <td>0.390857</td>\n",
              "    </tr>\n",
              "    <tr>\n",
              "      <th>std</th>\n",
              "      <td>11977.642655</td>\n",
              "      <td>1.956327</td>\n",
              "      <td>52023.241460</td>\n",
              "      <td>4.877748e+07</td>\n",
              "      <td>283.518232</td>\n",
              "      <td>2.770019e+08</td>\n",
              "      <td>2.834029e+11</td>\n",
              "      <td>2.950036</td>\n",
              "      <td>5257.001450</td>\n",
              "      <td>7404.777808</td>\n",
              "      <td>7.560116e+06</td>\n",
              "      <td>246.855123</td>\n",
              "      <td>0.489698</td>\n",
              "      <td>1.084333</td>\n",
              "      <td>1.519380e+08</td>\n",
              "      <td>1.330004e+08</td>\n",
              "      <td>2423.471618</td>\n",
              "      <td>2054.887034</td>\n",
              "      <td>3144.437173</td>\n",
              "      <td>0.487945</td>\n",
              "    </tr>\n",
              "    <tr>\n",
              "      <th>min</th>\n",
              "      <td>2488.000000</td>\n",
              "      <td>1.000000</td>\n",
              "      <td>0.000000</td>\n",
              "      <td>0.000000e+00</td>\n",
              "      <td>0.000000</td>\n",
              "      <td>0.000000e+00</td>\n",
              "      <td>0.000000e+00</td>\n",
              "      <td>2.000000</td>\n",
              "      <td>4.000000</td>\n",
              "      <td>-130933.000000</td>\n",
              "      <td>-1.464426e+08</td>\n",
              "      <td>-4365.000000</td>\n",
              "      <td>0.000000</td>\n",
              "      <td>1.000000</td>\n",
              "      <td>2.527000e+03</td>\n",
              "      <td>8.560000e+02</td>\n",
              "      <td>0.000000</td>\n",
              "      <td>0.000000</td>\n",
              "      <td>0.000000</td>\n",
              "      <td>0.000000</td>\n",
              "    </tr>\n",
              "    <tr>\n",
              "      <th>25%</th>\n",
              "      <td>7098.000000</td>\n",
              "      <td>3.000000</td>\n",
              "      <td>808.000000</td>\n",
              "      <td>7.957600e+04</td>\n",
              "      <td>127.000000</td>\n",
              "      <td>2.340000e+08</td>\n",
              "      <td>1.270000e+11</td>\n",
              "      <td>3.000000</td>\n",
              "      <td>1943.000000</td>\n",
              "      <td>29.000000</td>\n",
              "      <td>2.842000e+03</td>\n",
              "      <td>0.000000</td>\n",
              "      <td>0.000000</td>\n",
              "      <td>1.000000</td>\n",
              "      <td>4.743000e+03</td>\n",
              "      <td>3.539000e+03</td>\n",
              "      <td>0.000000</td>\n",
              "      <td>0.000000</td>\n",
              "      <td>0.000000</td>\n",
              "      <td>0.000000</td>\n",
              "    </tr>\n",
              "    <tr>\n",
              "      <th>50%</th>\n",
              "      <td>11905.000000</td>\n",
              "      <td>4.000000</td>\n",
              "      <td>42828.000000</td>\n",
              "      <td>6.471930e+06</td>\n",
              "      <td>251.000000</td>\n",
              "      <td>4.180000e+08</td>\n",
              "      <td>2.520000e+11</td>\n",
              "      <td>5.000000</td>\n",
              "      <td>3024.000000</td>\n",
              "      <td>8305.000000</td>\n",
              "      <td>5.521680e+05</td>\n",
              "      <td>276.000000</td>\n",
              "      <td>1.000000</td>\n",
              "      <td>2.000000</td>\n",
              "      <td>4.219610e+06</td>\n",
              "      <td>1.338339e+07</td>\n",
              "      <td>0.000000</td>\n",
              "      <td>0.000000</td>\n",
              "      <td>4.000000</td>\n",
              "      <td>0.000000</td>\n",
              "    </tr>\n",
              "    <tr>\n",
              "      <th>75%</th>\n",
              "      <td>29952.000000</td>\n",
              "      <td>5.000000</td>\n",
              "      <td>94796.000000</td>\n",
              "      <td>7.620354e+07</td>\n",
              "      <td>412.000000</td>\n",
              "      <td>7.030000e+08</td>\n",
              "      <td>4.130000e+11</td>\n",
              "      <td>7.000000</td>\n",
              "      <td>7462.000000</td>\n",
              "      <td>10017.000000</td>\n",
              "      <td>9.728112e+06</td>\n",
              "      <td>333.000000</td>\n",
              "      <td>1.000000</td>\n",
              "      <td>3.000000</td>\n",
              "      <td>1.356398e+08</td>\n",
              "      <td>1.439277e+08</td>\n",
              "      <td>251.000000</td>\n",
              "      <td>557.000000</td>\n",
              "      <td>3838.000000</td>\n",
              "      <td>1.000000</td>\n",
              "    </tr>\n",
              "    <tr>\n",
              "      <th>max</th>\n",
              "      <td>42935.000000</td>\n",
              "      <td>10.000000</td>\n",
              "      <td>260006.000000</td>\n",
              "      <td>1.471280e+08</td>\n",
              "      <td>1881.000000</td>\n",
              "      <td>9.990000e+08</td>\n",
              "      <td>1.880000e+12</td>\n",
              "      <td>17.000000</td>\n",
              "      <td>25224.000000</td>\n",
              "      <td>19190.000000</td>\n",
              "      <td>1.495387e+07</td>\n",
              "      <td>639.000000</td>\n",
              "      <td>1.000000</td>\n",
              "      <td>5.000000</td>\n",
              "      <td>1.269982e+09</td>\n",
              "      <td>9.905962e+08</td>\n",
              "      <td>20580.000000</td>\n",
              "      <td>16577.000000</td>\n",
              "      <td>20580.000000</td>\n",
              "      <td>1.000000</td>\n",
              "    </tr>\n",
              "  </tbody>\n",
              "</table>\n",
              "</div>\n",
              "      <button class=\"colab-df-convert\" onclick=\"convertToInteractive('df-d6fa73af-2093-4388-beba-cf6d99279d96')\"\n",
              "              title=\"Convert this dataframe to an interactive table.\"\n",
              "              style=\"display:none;\">\n",
              "        \n",
              "  <svg xmlns=\"http://www.w3.org/2000/svg\" height=\"24px\"viewBox=\"0 0 24 24\"\n",
              "       width=\"24px\">\n",
              "    <path d=\"M0 0h24v24H0V0z\" fill=\"none\"/>\n",
              "    <path d=\"M18.56 5.44l.94 2.06.94-2.06 2.06-.94-2.06-.94-.94-2.06-.94 2.06-2.06.94zm-11 1L8.5 8.5l.94-2.06 2.06-.94-2.06-.94L8.5 2.5l-.94 2.06-2.06.94zm10 10l.94 2.06.94-2.06 2.06-.94-2.06-.94-.94-2.06-.94 2.06-2.06.94z\"/><path d=\"M17.41 7.96l-1.37-1.37c-.4-.4-.92-.59-1.43-.59-.52 0-1.04.2-1.43.59L10.3 9.45l-7.72 7.72c-.78.78-.78 2.05 0 2.83L4 21.41c.39.39.9.59 1.41.59.51 0 1.02-.2 1.41-.59l7.78-7.78 2.81-2.81c.8-.78.8-2.07 0-2.86zM5.41 20L4 18.59l7.72-7.72 1.47 1.35L5.41 20z\"/>\n",
              "  </svg>\n",
              "      </button>\n",
              "      \n",
              "  <style>\n",
              "    .colab-df-container {\n",
              "      display:flex;\n",
              "      flex-wrap:wrap;\n",
              "      gap: 12px;\n",
              "    }\n",
              "\n",
              "    .colab-df-convert {\n",
              "      background-color: #E8F0FE;\n",
              "      border: none;\n",
              "      border-radius: 50%;\n",
              "      cursor: pointer;\n",
              "      display: none;\n",
              "      fill: #1967D2;\n",
              "      height: 32px;\n",
              "      padding: 0 0 0 0;\n",
              "      width: 32px;\n",
              "    }\n",
              "\n",
              "    .colab-df-convert:hover {\n",
              "      background-color: #E2EBFA;\n",
              "      box-shadow: 0px 1px 2px rgba(60, 64, 67, 0.3), 0px 1px 3px 1px rgba(60, 64, 67, 0.15);\n",
              "      fill: #174EA6;\n",
              "    }\n",
              "\n",
              "    [theme=dark] .colab-df-convert {\n",
              "      background-color: #3B4455;\n",
              "      fill: #D2E3FC;\n",
              "    }\n",
              "\n",
              "    [theme=dark] .colab-df-convert:hover {\n",
              "      background-color: #434B5C;\n",
              "      box-shadow: 0px 1px 3px 1px rgba(0, 0, 0, 0.15);\n",
              "      filter: drop-shadow(0px 1px 2px rgba(0, 0, 0, 0.3));\n",
              "      fill: #FFFFFF;\n",
              "    }\n",
              "  </style>\n",
              "\n",
              "      <script>\n",
              "        const buttonEl =\n",
              "          document.querySelector('#df-d6fa73af-2093-4388-beba-cf6d99279d96 button.colab-df-convert');\n",
              "        buttonEl.style.display =\n",
              "          google.colab.kernel.accessAllowed ? 'block' : 'none';\n",
              "\n",
              "        async function convertToInteractive(key) {\n",
              "          const element = document.querySelector('#df-d6fa73af-2093-4388-beba-cf6d99279d96');\n",
              "          const dataTable =\n",
              "            await google.colab.kernel.invokeFunction('convertToInteractive',\n",
              "                                                     [key], {});\n",
              "          if (!dataTable) return;\n",
              "\n",
              "          const docLinkHtml = 'Like what you see? Visit the ' +\n",
              "            '<a target=\"_blank\" href=https://colab.research.google.com/notebooks/data_table.ipynb>data table notebook</a>'\n",
              "            + ' to learn more about interactive tables.';\n",
              "          element.innerHTML = '';\n",
              "          dataTable['output_type'] = 'display_data';\n",
              "          await google.colab.output.renderOutput(dataTable, element);\n",
              "          const docLink = document.createElement('div');\n",
              "          docLink.innerHTML = docLinkHtml;\n",
              "          element.appendChild(docLink);\n",
              "        }\n",
              "      </script>\n",
              "    </div>\n",
              "  </div>\n",
              "  "
            ]
          },
          "metadata": {},
          "execution_count": 15
        }
      ],
      "source": [
        "df.describe()"
      ]
    },
    {
      "cell_type": "code",
      "execution_count": null,
      "metadata": {
        "id": "bOZoTvvrTu0q"
      },
      "outputs": [],
      "source": [
        "df['port_no'].fillna(df['port_no'].mean(),inplace=True)"
      ]
    },
    {
      "cell_type": "code",
      "execution_count": null,
      "metadata": {
        "id": "i1dcTvsrTuuw"
      },
      "outputs": [],
      "source": [
        "df['tx_bytes'].fillna(df['tx_bytes'].mean(),inplace=True)"
      ]
    },
    {
      "cell_type": "code",
      "execution_count": null,
      "metadata": {
        "id": "XkDtpuneTumj"
      },
      "outputs": [],
      "source": [
        "df['rx_bytes'].fillna(df['rx_bytes'].mean(),inplace=True)"
      ]
    },
    {
      "cell_type": "code",
      "execution_count": null,
      "metadata": {
        "id": "vGU8nLdfTubN"
      },
      "outputs": [],
      "source": [
        "df['tx_kbps'].fillna(df['tx_kbps'].mean(),inplace=True)"
      ]
    },
    {
      "cell_type": "code",
      "execution_count": null,
      "metadata": {
        "id": "mz50h8WpTuUG"
      },
      "outputs": [],
      "source": [
        "df['rx_kbps'].fillna(df['rx_kbps'].mean(),inplace=True)"
      ]
    },
    {
      "cell_type": "code",
      "execution_count": null,
      "metadata": {
        "id": "hNbmWkblTuMY"
      },
      "outputs": [],
      "source": [
        "df['tot_kbps'].fillna(df['tot_kbps'].mean(),inplace=True)"
      ]
    },
    {
      "cell_type": "code",
      "execution_count": null,
      "metadata": {
        "colab": {
          "base_uri": "https://localhost:8080/"
        },
        "id": "dvm7PyG4TuGA",
        "outputId": "fcafa837-2864-475b-d49a-1df2c6345412"
      },
      "outputs": [
        {
          "output_type": "stream",
          "name": "stdout",
          "text": [
            "<class 'pandas.core.frame.DataFrame'>\n",
            "RangeIndex: 104345 entries, 0 to 104344\n",
            "Data columns (total 23 columns):\n",
            " #   Column       Non-Null Count   Dtype  \n",
            "---  ------       --------------   -----  \n",
            " 0   dt           104345 non-null  int64  \n",
            " 1   switch       104345 non-null  int64  \n",
            " 2   src          104345 non-null  object \n",
            " 3   dst          104345 non-null  object \n",
            " 4   pktcount     104345 non-null  int64  \n",
            " 5   bytecount    104345 non-null  int64  \n",
            " 6   dur          104345 non-null  int64  \n",
            " 7   dur_nsec     104345 non-null  int64  \n",
            " 8   tot_dur      104345 non-null  float64\n",
            " 9   flows        104345 non-null  int64  \n",
            " 10  packetins    104345 non-null  int64  \n",
            " 11  pktperflow   104345 non-null  int64  \n",
            " 12  byteperflow  104345 non-null  int64  \n",
            " 13  pktrate      104345 non-null  int64  \n",
            " 14  Pairflow     104345 non-null  int64  \n",
            " 15  Protocol     104345 non-null  object \n",
            " 16  port_no      104345 non-null  int64  \n",
            " 17  tx_bytes     104345 non-null  int64  \n",
            " 18  rx_bytes     104345 non-null  int64  \n",
            " 19  tx_kbps      104345 non-null  int64  \n",
            " 20  rx_kbps      104345 non-null  float64\n",
            " 21  tot_kbps     104345 non-null  float64\n",
            " 22  label        104345 non-null  int64  \n",
            "dtypes: float64(3), int64(17), object(3)\n",
            "memory usage: 18.3+ MB\n"
          ]
        }
      ],
      "source": [
        "df.info()"
      ]
    },
    {
      "cell_type": "code",
      "execution_count": null,
      "metadata": {
        "colab": {
          "base_uri": "https://localhost:8080/"
        },
        "id": "rKWN5s23Tt-6",
        "outputId": "25534fc9-b179-42d9-f18e-8827a82d6d72"
      },
      "outputs": [
        {
          "output_type": "execute_result",
          "data": {
            "text/plain": [
              "dt             0\n",
              "switch         0\n",
              "src            0\n",
              "dst            0\n",
              "pktcount       0\n",
              "bytecount      0\n",
              "dur            0\n",
              "dur_nsec       0\n",
              "tot_dur        0\n",
              "flows          0\n",
              "packetins      0\n",
              "pktperflow     0\n",
              "byteperflow    0\n",
              "pktrate        0\n",
              "Pairflow       0\n",
              "Protocol       0\n",
              "port_no        0\n",
              "tx_bytes       0\n",
              "rx_bytes       0\n",
              "tx_kbps        0\n",
              "rx_kbps        0\n",
              "tot_kbps       0\n",
              "label          0\n",
              "dtype: int64"
            ]
          },
          "metadata": {},
          "execution_count": 23
        }
      ],
      "source": [
        "df.isnull().sum()"
      ]
    },
    {
      "cell_type": "code",
      "execution_count": null,
      "metadata": {
        "id": "ErW6RDpTTt3_"
      },
      "outputs": [],
      "source": [
        "df.dropna(axis = 0,inplace =True)"
      ]
    },
    {
      "cell_type": "code",
      "execution_count": null,
      "metadata": {
        "colab": {
          "base_uri": "https://localhost:8080/"
        },
        "id": "M_7VkJd5TtxC",
        "outputId": "51691a3a-8009-4ba6-c10e-c1eda317203e"
      },
      "outputs": [
        {
          "output_type": "execute_result",
          "data": {
            "text/plain": [
              "(104345, 23)"
            ]
          },
          "metadata": {},
          "execution_count": 25
        }
      ],
      "source": [
        "df.shape"
      ]
    },
    {
      "cell_type": "code",
      "execution_count": null,
      "metadata": {
        "colab": {
          "base_uri": "https://localhost:8080/"
        },
        "id": "-2Kb1VstTtog",
        "outputId": "2f0dbff8-3693-42ba-ceca-2e768280aedb"
      },
      "outputs": [
        {
          "output_type": "execute_result",
          "data": {
            "text/plain": [
              "dt             0\n",
              "switch         0\n",
              "src            0\n",
              "dst            0\n",
              "pktcount       0\n",
              "bytecount      0\n",
              "dur            0\n",
              "dur_nsec       0\n",
              "tot_dur        0\n",
              "flows          0\n",
              "packetins      0\n",
              "pktperflow     0\n",
              "byteperflow    0\n",
              "pktrate        0\n",
              "Pairflow       0\n",
              "Protocol       0\n",
              "port_no        0\n",
              "tx_bytes       0\n",
              "rx_bytes       0\n",
              "tx_kbps        0\n",
              "rx_kbps        0\n",
              "tot_kbps       0\n",
              "label          0\n",
              "dtype: int64"
            ]
          },
          "metadata": {},
          "execution_count": 26
        }
      ],
      "source": [
        "df.isna().sum()"
      ]
    },
    {
      "cell_type": "code",
      "execution_count": null,
      "metadata": {
        "colab": {
          "base_uri": "https://localhost:8080/"
        },
        "id": "hRbijIP_qAo1",
        "outputId": "917c945a-408c-4c82-9c71-dae875ce3041"
      },
      "outputs": [
        {
          "output_type": "stream",
          "name": "stdout",
          "text": [
            "<class 'pandas.core.frame.DataFrame'>\n",
            "Int64Index: 104345 entries, 0 to 104344\n",
            "Data columns (total 23 columns):\n",
            " #   Column       Non-Null Count   Dtype  \n",
            "---  ------       --------------   -----  \n",
            " 0   dt           104345 non-null  int64  \n",
            " 1   switch       104345 non-null  int64  \n",
            " 2   src          104345 non-null  object \n",
            " 3   dst          104345 non-null  object \n",
            " 4   pktcount     104345 non-null  int64  \n",
            " 5   bytecount    104345 non-null  int64  \n",
            " 6   dur          104345 non-null  int64  \n",
            " 7   dur_nsec     104345 non-null  int64  \n",
            " 8   tot_dur      104345 non-null  float64\n",
            " 9   flows        104345 non-null  int64  \n",
            " 10  packetins    104345 non-null  int64  \n",
            " 11  pktperflow   104345 non-null  int64  \n",
            " 12  byteperflow  104345 non-null  int64  \n",
            " 13  pktrate      104345 non-null  int64  \n",
            " 14  Pairflow     104345 non-null  int64  \n",
            " 15  Protocol     104345 non-null  object \n",
            " 16  port_no      104345 non-null  int64  \n",
            " 17  tx_bytes     104345 non-null  int64  \n",
            " 18  rx_bytes     104345 non-null  int64  \n",
            " 19  tx_kbps      104345 non-null  int64  \n",
            " 20  rx_kbps      104345 non-null  float64\n",
            " 21  tot_kbps     104345 non-null  float64\n",
            " 22  label        104345 non-null  int64  \n",
            "dtypes: float64(3), int64(17), object(3)\n",
            "memory usage: 19.1+ MB\n"
          ]
        }
      ],
      "source": [
        "df.info()"
      ]
    },
    {
      "cell_type": "code",
      "execution_count": null,
      "metadata": {
        "id": "t4vEwFjKYZtM"
      },
      "outputs": [],
      "source": [
        "df.drop(['src', 'dst','Protocol'], axis=1,inplace=True)\n"
      ]
    },
    {
      "cell_type": "code",
      "execution_count": null,
      "metadata": {
        "id": "Ud2Sxi6-aJRy"
      },
      "outputs": [],
      "source": [
        "X = df.drop('label',axis=1)"
      ]
    },
    {
      "cell_type": "code",
      "execution_count": null,
      "metadata": {
        "id": "W-Fvhv3kah0A"
      },
      "outputs": [],
      "source": [
        "y = df['label']"
      ]
    },
    {
      "cell_type": "code",
      "execution_count": null,
      "metadata": {
        "id": "D7t2TgQpalBZ"
      },
      "outputs": [],
      "source": [
        "from sklearn.preprocessing import StandardScaler\n",
        "\n",
        "scaler = StandardScaler()\n",
        "X = scaler.fit_transform(X)"
      ]
    },
    {
      "cell_type": "code",
      "execution_count": null,
      "metadata": {
        "colab": {
          "base_uri": "https://localhost:8080/"
        },
        "id": "Rook0QsQa0HG",
        "outputId": "c66e3b39-40b6-42de-bfbd-247896384276"
      },
      "outputs": [
        {
          "output_type": "execute_result",
          "data": {
            "text/plain": [
              "((83476, 19), (20869, 19), (83476,), (20869,))"
            ]
          },
          "metadata": {},
          "execution_count": 32
        }
      ],
      "source": [
        "from sklearn.model_selection import train_test_split\n",
        "\n",
        "X_train, X_test, y_train, y_test = train_test_split(X, y, test_size = 0.2, stratify = y, random_state = 0)\n",
        "\n",
        "X_train.shape, X_test.shape, y_train.shape, y_test.shape"
      ]
    },
    {
      "cell_type": "code",
      "execution_count": null,
      "metadata": {
        "colab": {
          "base_uri": "https://localhost:8080/"
        },
        "id": "d-qPrW3ZblXh",
        "outputId": "d59b02ef-a99c-47ad-ac8f-cd7358683b1c"
      },
      "outputs": [
        {
          "name": "stdout",
          "output_type": "stream",
          "text": [
            "Looking in indexes: https://pypi.org/simple, https://us-python.pkg.dev/colab-wheels/public/simple/\n",
            "Requirement already satisfied: tensorflow in /usr/local/lib/python3.8/dist-packages (2.11.0)\n",
            "Requirement already satisfied: google-pasta>=0.1.1 in /usr/local/lib/python3.8/dist-packages (from tensorflow) (0.2.0)\n",
            "Requirement already satisfied: protobuf<3.20,>=3.9.2 in /usr/local/lib/python3.8/dist-packages (from tensorflow) (3.19.6)\n",
            "Requirement already satisfied: grpcio<2.0,>=1.24.3 in /usr/local/lib/python3.8/dist-packages (from tensorflow) (1.51.3)\n",
            "Requirement already satisfied: keras<2.12,>=2.11.0 in /usr/local/lib/python3.8/dist-packages (from tensorflow) (2.11.0)\n",
            "Requirement already satisfied: gast<=0.4.0,>=0.2.1 in /usr/local/lib/python3.8/dist-packages (from tensorflow) (0.4.0)\n",
            "Requirement already satisfied: tensorboard<2.12,>=2.11 in /usr/local/lib/python3.8/dist-packages (from tensorflow) (2.11.2)\n",
            "Requirement already satisfied: flatbuffers>=2.0 in /usr/local/lib/python3.8/dist-packages (from tensorflow) (23.1.21)\n",
            "Requirement already satisfied: numpy>=1.20 in /usr/local/lib/python3.8/dist-packages (from tensorflow) (1.22.4)\n",
            "Requirement already satisfied: opt-einsum>=2.3.2 in /usr/local/lib/python3.8/dist-packages (from tensorflow) (3.3.0)\n",
            "Requirement already satisfied: astunparse>=1.6.0 in /usr/local/lib/python3.8/dist-packages (from tensorflow) (1.6.3)\n",
            "Requirement already satisfied: h5py>=2.9.0 in /usr/local/lib/python3.8/dist-packages (from tensorflow) (3.1.0)\n",
            "Requirement already satisfied: packaging in /usr/local/lib/python3.8/dist-packages (from tensorflow) (23.0)\n",
            "Requirement already satisfied: termcolor>=1.1.0 in /usr/local/lib/python3.8/dist-packages (from tensorflow) (2.2.0)\n",
            "Requirement already satisfied: absl-py>=1.0.0 in /usr/local/lib/python3.8/dist-packages (from tensorflow) (1.4.0)\n",
            "Requirement already satisfied: tensorflow-io-gcs-filesystem>=0.23.1 in /usr/local/lib/python3.8/dist-packages (from tensorflow) (0.31.0)\n",
            "Requirement already satisfied: setuptools in /usr/local/lib/python3.8/dist-packages (from tensorflow) (57.4.0)\n",
            "Requirement already satisfied: tensorflow-estimator<2.12,>=2.11.0 in /usr/local/lib/python3.8/dist-packages (from tensorflow) (2.11.0)\n",
            "Requirement already satisfied: typing-extensions>=3.6.6 in /usr/local/lib/python3.8/dist-packages (from tensorflow) (4.5.0)\n",
            "Requirement already satisfied: libclang>=13.0.0 in /usr/local/lib/python3.8/dist-packages (from tensorflow) (15.0.6.1)\n",
            "Requirement already satisfied: wrapt>=1.11.0 in /usr/local/lib/python3.8/dist-packages (from tensorflow) (1.15.0)\n",
            "Requirement already satisfied: six>=1.12.0 in /usr/local/lib/python3.8/dist-packages (from tensorflow) (1.15.0)\n",
            "Requirement already satisfied: wheel<1.0,>=0.23.0 in /usr/local/lib/python3.8/dist-packages (from astunparse>=1.6.0->tensorflow) (0.38.4)\n",
            "Requirement already satisfied: tensorboard-data-server<0.7.0,>=0.6.0 in /usr/local/lib/python3.8/dist-packages (from tensorboard<2.12,>=2.11->tensorflow) (0.6.1)\n",
            "Requirement already satisfied: werkzeug>=1.0.1 in /usr/local/lib/python3.8/dist-packages (from tensorboard<2.12,>=2.11->tensorflow) (2.2.3)\n",
            "Requirement already satisfied: google-auth-oauthlib<0.5,>=0.4.1 in /usr/local/lib/python3.8/dist-packages (from tensorboard<2.12,>=2.11->tensorflow) (0.4.6)\n",
            "Requirement already satisfied: google-auth<3,>=1.6.3 in /usr/local/lib/python3.8/dist-packages (from tensorboard<2.12,>=2.11->tensorflow) (2.16.2)\n",
            "Requirement already satisfied: requests<3,>=2.21.0 in /usr/local/lib/python3.8/dist-packages (from tensorboard<2.12,>=2.11->tensorflow) (2.25.1)\n",
            "Requirement already satisfied: tensorboard-plugin-wit>=1.6.0 in /usr/local/lib/python3.8/dist-packages (from tensorboard<2.12,>=2.11->tensorflow) (1.8.1)\n",
            "Requirement already satisfied: markdown>=2.6.8 in /usr/local/lib/python3.8/dist-packages (from tensorboard<2.12,>=2.11->tensorflow) (3.4.1)\n",
            "Requirement already satisfied: rsa<5,>=3.1.4 in /usr/local/lib/python3.8/dist-packages (from google-auth<3,>=1.6.3->tensorboard<2.12,>=2.11->tensorflow) (4.9)\n",
            "Requirement already satisfied: cachetools<6.0,>=2.0.0 in /usr/local/lib/python3.8/dist-packages (from google-auth<3,>=1.6.3->tensorboard<2.12,>=2.11->tensorflow) (5.3.0)\n",
            "Requirement already satisfied: pyasn1-modules>=0.2.1 in /usr/local/lib/python3.8/dist-packages (from google-auth<3,>=1.6.3->tensorboard<2.12,>=2.11->tensorflow) (0.2.8)\n",
            "Requirement already satisfied: requests-oauthlib>=0.7.0 in /usr/local/lib/python3.8/dist-packages (from google-auth-oauthlib<0.5,>=0.4.1->tensorboard<2.12,>=2.11->tensorflow) (1.3.1)\n",
            "Requirement already satisfied: importlib-metadata>=4.4 in /usr/local/lib/python3.8/dist-packages (from markdown>=2.6.8->tensorboard<2.12,>=2.11->tensorflow) (6.0.0)\n",
            "Requirement already satisfied: urllib3<1.27,>=1.21.1 in /usr/local/lib/python3.8/dist-packages (from requests<3,>=2.21.0->tensorboard<2.12,>=2.11->tensorflow) (1.26.14)\n",
            "Requirement already satisfied: certifi>=2017.4.17 in /usr/local/lib/python3.8/dist-packages (from requests<3,>=2.21.0->tensorboard<2.12,>=2.11->tensorflow) (2022.12.7)\n",
            "Requirement already satisfied: chardet<5,>=3.0.2 in /usr/local/lib/python3.8/dist-packages (from requests<3,>=2.21.0->tensorboard<2.12,>=2.11->tensorflow) (4.0.0)\n",
            "Requirement already satisfied: idna<3,>=2.5 in /usr/local/lib/python3.8/dist-packages (from requests<3,>=2.21.0->tensorboard<2.12,>=2.11->tensorflow) (2.10)\n",
            "Requirement already satisfied: MarkupSafe>=2.1.1 in /usr/local/lib/python3.8/dist-packages (from werkzeug>=1.0.1->tensorboard<2.12,>=2.11->tensorflow) (2.1.2)\n",
            "Requirement already satisfied: zipp>=0.5 in /usr/local/lib/python3.8/dist-packages (from importlib-metadata>=4.4->markdown>=2.6.8->tensorboard<2.12,>=2.11->tensorflow) (3.15.0)\n",
            "Requirement already satisfied: pyasn1<0.5.0,>=0.4.6 in /usr/local/lib/python3.8/dist-packages (from pyasn1-modules>=0.2.1->google-auth<3,>=1.6.3->tensorboard<2.12,>=2.11->tensorflow) (0.4.8)\n",
            "Requirement already satisfied: oauthlib>=3.0.0 in /usr/local/lib/python3.8/dist-packages (from requests-oauthlib>=0.7.0->google-auth-oauthlib<0.5,>=0.4.1->tensorboard<2.12,>=2.11->tensorflow) (3.2.2)\n"
          ]
        }
      ],
      "source": [
        "!pip install tensorflow"
      ]
    },
    {
      "cell_type": "code",
      "execution_count": null,
      "metadata": {
        "colab": {
          "base_uri": "https://localhost:8080/",
          "height": 35
        },
        "id": "X7cPZL3ObrmV",
        "outputId": "ffa2f1eb-a2e1-46da-f87d-80bd14e8bfef"
      },
      "outputs": [
        {
          "output_type": "execute_result",
          "data": {
            "text/plain": [
              "'2.11.0'"
            ],
            "application/vnd.google.colaboratory.intrinsic+json": {
              "type": "string"
            }
          },
          "metadata": {},
          "execution_count": 39
        }
      ],
      "source": [
        "import tensorflow as tf\n",
        "tf.__version__"
      ]
    },
    {
      "cell_type": "code",
      "execution_count": null,
      "metadata": {
        "id": "F4c9Kjqwbvax"
      },
      "outputs": [],
      "source": [
        "model_1 = tf.keras.Sequential([\n",
        "           tf.keras.layers.Dense(3, activation='relu'),\n",
        "           tf.keras.layers.Dense(5, activation='relu'),\n",
        "           tf.keras.layers.Dense(3, activation='softmax')\n",
        "])"
      ]
    },
    {
      "cell_type": "code",
      "execution_count": null,
      "metadata": {
        "id": "se86K0PAb0Oq"
      },
      "outputs": [],
      "source": [
        "\n",
        "model_1.compile(loss=tf.keras.losses.CategoricalCrossentropy(),\n",
        "                 optimizer=tf.keras.optimizers.Adam(learning_rate=0.01),\n",
        "                 metrics=['accuracy'])"
      ]
    },
    {
      "cell_type": "code",
      "execution_count": null,
      "metadata": {
        "colab": {
          "base_uri": "https://localhost:8080/"
        },
        "id": "NPV46mcWb3RT",
        "outputId": "7ee4a62d-81d4-4fe8-cb1e-8b92035dcf66"
      },
      "outputs": [
        {
          "output_type": "stream",
          "name": "stdout",
          "text": [
            "Epoch 1/100\n",
            "2609/2609 [==============================] - 5s 2ms/step - loss: 0.2672 - accuracy: 0.8884\n",
            "Epoch 2/100\n",
            "2609/2609 [==============================] - 6s 2ms/step - loss: 0.1601 - accuracy: 0.9336\n",
            "Epoch 3/100\n",
            "2609/2609 [==============================] - 5s 2ms/step - loss: 0.1355 - accuracy: 0.9397\n",
            "Epoch 4/100\n",
            "2609/2609 [==============================] - 5s 2ms/step - loss: 0.1331 - accuracy: 0.9409\n",
            "Epoch 5/100\n",
            "2609/2609 [==============================] - 5s 2ms/step - loss: 0.1318 - accuracy: 0.9421\n",
            "Epoch 6/100\n",
            "2609/2609 [==============================] - 5s 2ms/step - loss: 0.1317 - accuracy: 0.9424\n",
            "Epoch 7/100\n",
            "2609/2609 [==============================] - 6s 2ms/step - loss: 0.1285 - accuracy: 0.9426\n",
            "Epoch 8/100\n",
            "2609/2609 [==============================] - 5s 2ms/step - loss: 0.1273 - accuracy: 0.9431\n",
            "Epoch 9/100\n",
            "2609/2609 [==============================] - 5s 2ms/step - loss: 0.1279 - accuracy: 0.9425\n",
            "Epoch 10/100\n",
            "2609/2609 [==============================] - 5s 2ms/step - loss: 0.1255 - accuracy: 0.9433\n",
            "Epoch 11/100\n",
            "2609/2609 [==============================] - 5s 2ms/step - loss: 0.1258 - accuracy: 0.9441\n",
            "Epoch 12/100\n",
            "2609/2609 [==============================] - 5s 2ms/step - loss: 0.1255 - accuracy: 0.9437\n",
            "Epoch 13/100\n",
            "2609/2609 [==============================] - 5s 2ms/step - loss: 0.1259 - accuracy: 0.9440\n",
            "Epoch 14/100\n",
            "2609/2609 [==============================] - 4s 2ms/step - loss: 0.1237 - accuracy: 0.9440\n",
            "Epoch 15/100\n",
            "2609/2609 [==============================] - 7s 3ms/step - loss: 0.1236 - accuracy: 0.9444\n",
            "Epoch 16/100\n",
            "2609/2609 [==============================] - 5s 2ms/step - loss: 0.1236 - accuracy: 0.9450\n",
            "Epoch 17/100\n",
            "2609/2609 [==============================] - 6s 2ms/step - loss: 0.1252 - accuracy: 0.9436\n",
            "Epoch 18/100\n",
            "2609/2609 [==============================] - 5s 2ms/step - loss: 0.1222 - accuracy: 0.9445\n",
            "Epoch 19/100\n",
            "2609/2609 [==============================] - 5s 2ms/step - loss: 0.1225 - accuracy: 0.9452\n",
            "Epoch 20/100\n",
            "2609/2609 [==============================] - 6s 2ms/step - loss: 0.1213 - accuracy: 0.9453\n",
            "Epoch 21/100\n",
            "2609/2609 [==============================] - 5s 2ms/step - loss: 0.1225 - accuracy: 0.9443\n",
            "Epoch 22/100\n",
            "2609/2609 [==============================] - 5s 2ms/step - loss: 0.1210 - accuracy: 0.9455\n",
            "Epoch 23/100\n",
            "2609/2609 [==============================] - 5s 2ms/step - loss: 0.1219 - accuracy: 0.9444\n",
            "Epoch 24/100\n",
            "2609/2609 [==============================] - 5s 2ms/step - loss: 0.1215 - accuracy: 0.9459\n",
            "Epoch 25/100\n",
            "2609/2609 [==============================] - 7s 3ms/step - loss: 0.1214 - accuracy: 0.9448\n",
            "Epoch 26/100\n",
            "2609/2609 [==============================] - 5s 2ms/step - loss: 0.1203 - accuracy: 0.9448\n",
            "Epoch 27/100\n",
            "2609/2609 [==============================] - 5s 2ms/step - loss: 0.1206 - accuracy: 0.9451\n",
            "Epoch 28/100\n",
            "2609/2609 [==============================] - 5s 2ms/step - loss: 0.1201 - accuracy: 0.9456\n",
            "Epoch 29/100\n",
            "2609/2609 [==============================] - 5s 2ms/step - loss: 0.1193 - accuracy: 0.9457\n",
            "Epoch 30/100\n",
            "2609/2609 [==============================] - 5s 2ms/step - loss: 0.1180 - accuracy: 0.9465\n",
            "Epoch 31/100\n",
            "2609/2609 [==============================] - 5s 2ms/step - loss: 0.1191 - accuracy: 0.9459\n",
            "Epoch 32/100\n",
            "2609/2609 [==============================] - 5s 2ms/step - loss: 0.1190 - accuracy: 0.9457\n",
            "Epoch 33/100\n",
            "2609/2609 [==============================] - 5s 2ms/step - loss: 0.1180 - accuracy: 0.9460\n",
            "Epoch 34/100\n",
            "2609/2609 [==============================] - 5s 2ms/step - loss: 0.1173 - accuracy: 0.9459\n",
            "Epoch 35/100\n",
            "2609/2609 [==============================] - 5s 2ms/step - loss: 0.1178 - accuracy: 0.9464\n",
            "Epoch 36/100\n",
            "2609/2609 [==============================] - 5s 2ms/step - loss: 0.1162 - accuracy: 0.9469\n",
            "Epoch 37/100\n",
            "2609/2609 [==============================] - 5s 2ms/step - loss: 0.1159 - accuracy: 0.9478\n",
            "Epoch 38/100\n",
            "2609/2609 [==============================] - 5s 2ms/step - loss: 0.1162 - accuracy: 0.9470\n",
            "Epoch 39/100\n",
            "2609/2609 [==============================] - 5s 2ms/step - loss: 0.1157 - accuracy: 0.9473\n",
            "Epoch 40/100\n",
            "2609/2609 [==============================] - 5s 2ms/step - loss: 0.1158 - accuracy: 0.9465\n",
            "Epoch 41/100\n",
            "2609/2609 [==============================] - 5s 2ms/step - loss: 0.1150 - accuracy: 0.9472\n",
            "Epoch 42/100\n",
            "2609/2609 [==============================] - 5s 2ms/step - loss: 0.1153 - accuracy: 0.9478\n",
            "Epoch 43/100\n",
            "2609/2609 [==============================] - 5s 2ms/step - loss: 0.1156 - accuracy: 0.9472\n",
            "Epoch 44/100\n",
            "2609/2609 [==============================] - 5s 2ms/step - loss: 0.1145 - accuracy: 0.9473\n",
            "Epoch 45/100\n",
            "2609/2609 [==============================] - 5s 2ms/step - loss: 0.1147 - accuracy: 0.9477\n",
            "Epoch 46/100\n",
            "2609/2609 [==============================] - 5s 2ms/step - loss: 0.1149 - accuracy: 0.9474\n",
            "Epoch 47/100\n",
            "2609/2609 [==============================] - 5s 2ms/step - loss: 0.1145 - accuracy: 0.9478\n",
            "Epoch 48/100\n",
            "2609/2609 [==============================] - 5s 2ms/step - loss: 0.1142 - accuracy: 0.9476\n",
            "Epoch 49/100\n",
            "2609/2609 [==============================] - 5s 2ms/step - loss: 0.1145 - accuracy: 0.9468\n",
            "Epoch 50/100\n",
            "2609/2609 [==============================] - 5s 2ms/step - loss: 0.1129 - accuracy: 0.9479\n",
            "Epoch 51/100\n",
            "2609/2609 [==============================] - 6s 2ms/step - loss: 0.1146 - accuracy: 0.9475\n",
            "Epoch 52/100\n",
            "2609/2609 [==============================] - 5s 2ms/step - loss: 0.1135 - accuracy: 0.9481\n",
            "Epoch 53/100\n",
            "2609/2609 [==============================] - 5s 2ms/step - loss: 0.1149 - accuracy: 0.9482\n",
            "Epoch 54/100\n",
            "2609/2609 [==============================] - 5s 2ms/step - loss: 0.1137 - accuracy: 0.9480\n",
            "Epoch 55/100\n",
            "2609/2609 [==============================] - 5s 2ms/step - loss: 0.1139 - accuracy: 0.9481\n",
            "Epoch 56/100\n",
            "2609/2609 [==============================] - 5s 2ms/step - loss: 0.1138 - accuracy: 0.9471\n",
            "Epoch 57/100\n",
            "2609/2609 [==============================] - 5s 2ms/step - loss: 0.1134 - accuracy: 0.9485\n",
            "Epoch 58/100\n",
            "2609/2609 [==============================] - 7s 3ms/step - loss: 0.1126 - accuracy: 0.9469\n",
            "Epoch 59/100\n",
            "2609/2609 [==============================] - 5s 2ms/step - loss: 0.1136 - accuracy: 0.9476\n",
            "Epoch 60/100\n",
            "2609/2609 [==============================] - 5s 2ms/step - loss: 0.1138 - accuracy: 0.9481\n",
            "Epoch 61/100\n",
            "2609/2609 [==============================] - 6s 2ms/step - loss: 0.1136 - accuracy: 0.9477\n",
            "Epoch 62/100\n",
            "2609/2609 [==============================] - 5s 2ms/step - loss: 0.1139 - accuracy: 0.9481\n",
            "Epoch 63/100\n",
            "2609/2609 [==============================] - 5s 2ms/step - loss: 0.1140 - accuracy: 0.9474\n",
            "Epoch 64/100\n",
            "2609/2609 [==============================] - 5s 2ms/step - loss: 0.1133 - accuracy: 0.9483\n",
            "Epoch 65/100\n",
            "2609/2609 [==============================] - 4s 2ms/step - loss: 0.1130 - accuracy: 0.9486\n",
            "Epoch 66/100\n",
            "2609/2609 [==============================] - 6s 2ms/step - loss: 0.1132 - accuracy: 0.9482\n",
            "Epoch 67/100\n",
            "2609/2609 [==============================] - 5s 2ms/step - loss: 0.1128 - accuracy: 0.9484\n",
            "Epoch 68/100\n",
            "2609/2609 [==============================] - 5s 2ms/step - loss: 0.1125 - accuracy: 0.9487\n",
            "Epoch 69/100\n",
            "2609/2609 [==============================] - 5s 2ms/step - loss: 0.1131 - accuracy: 0.9481\n",
            "Epoch 70/100\n",
            "2609/2609 [==============================] - 5s 2ms/step - loss: 0.1141 - accuracy: 0.9475\n",
            "Epoch 71/100\n",
            "2609/2609 [==============================] - 6s 2ms/step - loss: 0.1136 - accuracy: 0.9484\n",
            "Epoch 72/100\n",
            "2609/2609 [==============================] - 5s 2ms/step - loss: 0.1126 - accuracy: 0.9482\n",
            "Epoch 73/100\n",
            "2609/2609 [==============================] - 5s 2ms/step - loss: 0.1121 - accuracy: 0.9485\n",
            "Epoch 74/100\n",
            "2609/2609 [==============================] - 6s 2ms/step - loss: 0.1130 - accuracy: 0.9487\n",
            "Epoch 75/100\n",
            "2609/2609 [==============================] - 5s 2ms/step - loss: 0.1131 - accuracy: 0.9478\n",
            "Epoch 76/100\n",
            "2609/2609 [==============================] - 5s 2ms/step - loss: 0.1130 - accuracy: 0.9479\n",
            "Epoch 77/100\n",
            "2609/2609 [==============================] - 5s 2ms/step - loss: 0.1127 - accuracy: 0.9485\n",
            "Epoch 78/100\n",
            "2609/2609 [==============================] - 5s 2ms/step - loss: 0.1123 - accuracy: 0.9482\n",
            "Epoch 79/100\n",
            "2609/2609 [==============================] - 6s 2ms/step - loss: 0.1118 - accuracy: 0.9491\n",
            "Epoch 80/100\n",
            "2609/2609 [==============================] - 5s 2ms/step - loss: 0.1133 - accuracy: 0.9470\n",
            "Epoch 81/100\n",
            "2609/2609 [==============================] - 5s 2ms/step - loss: 0.1116 - accuracy: 0.9480\n",
            "Epoch 82/100\n",
            "2609/2609 [==============================] - 6s 2ms/step - loss: 0.1124 - accuracy: 0.9479\n",
            "Epoch 83/100\n",
            "2609/2609 [==============================] - 5s 2ms/step - loss: 0.1123 - accuracy: 0.9489\n",
            "Epoch 84/100\n",
            "2609/2609 [==============================] - 6s 2ms/step - loss: 0.1125 - accuracy: 0.9487\n",
            "Epoch 85/100\n",
            "2609/2609 [==============================] - 5s 2ms/step - loss: 0.1121 - accuracy: 0.9484\n",
            "Epoch 86/100\n",
            "2609/2609 [==============================] - 5s 2ms/step - loss: 0.1132 - accuracy: 0.9474\n",
            "Epoch 87/100\n",
            "2609/2609 [==============================] - 6s 2ms/step - loss: 0.1121 - accuracy: 0.9481\n",
            "Epoch 88/100\n",
            "2609/2609 [==============================] - 5s 2ms/step - loss: 0.1119 - accuracy: 0.9484\n",
            "Epoch 89/100\n",
            "2609/2609 [==============================] - 5s 2ms/step - loss: 0.1121 - accuracy: 0.9491\n",
            "Epoch 90/100\n",
            "2609/2609 [==============================] - 5s 2ms/step - loss: 0.1107 - accuracy: 0.9497\n",
            "Epoch 91/100\n",
            "2609/2609 [==============================] - 5s 2ms/step - loss: 0.1124 - accuracy: 0.9480\n",
            "Epoch 92/100\n",
            "2609/2609 [==============================] - 6s 2ms/step - loss: 0.1112 - accuracy: 0.9485\n",
            "Epoch 93/100\n",
            "2609/2609 [==============================] - 5s 2ms/step - loss: 0.1119 - accuracy: 0.9491\n",
            "Epoch 94/100\n",
            "2609/2609 [==============================] - 5s 2ms/step - loss: 0.1114 - accuracy: 0.9489\n",
            "Epoch 95/100\n",
            "2609/2609 [==============================] - 5s 2ms/step - loss: 0.1126 - accuracy: 0.9487\n",
            "Epoch 96/100\n",
            "2609/2609 [==============================] - 5s 2ms/step - loss: 0.1120 - accuracy: 0.9497\n",
            "Epoch 97/100\n",
            "2609/2609 [==============================] - 6s 2ms/step - loss: 0.1119 - accuracy: 0.9484\n",
            "Epoch 98/100\n",
            "2609/2609 [==============================] - 5s 2ms/step - loss: 0.1118 - accuracy: 0.9491\n",
            "Epoch 99/100\n",
            "2609/2609 [==============================] - 5s 2ms/step - loss: 0.1120 - accuracy: 0.9490\n",
            "Epoch 100/100\n",
            "2609/2609 [==============================] - 6s 2ms/step - loss: 0.1126 - accuracy: 0.9488\n"
          ]
        }
      ],
      "source": [
        "\n",
        "history = model_1.fit(X_train,\n",
        "                      tf.one_hot(y_train, depth=3),\n",
        "                      epochs=100,\n",
        "                      verbose = 1)"
      ]
    },
    {
      "cell_type": "code",
      "execution_count": null,
      "metadata": {
        "colab": {
          "base_uri": "https://localhost:8080/",
          "height": 283
        },
        "id": "i3gHe3wBb6eO",
        "outputId": "33625fd4-0380-4448-b15e-2cdf5606a232"
      },
      "outputs": [
        {
          "output_type": "display_data",
          "data": {
            "text/plain": [
              "<Figure size 432x288 with 1 Axes>"
            ],
            "image/png": "[encoded data removed]"
          },
          "metadata": {
            "needs_background": "light"
          }
        }
      ],
      "source": [
        "plt.plot(history.history['accuracy'], label='accuracy')\n",
        "plt.xlabel('Epoch')\n",
        "plt.ylabel('Accuracy')\n",
        "plt.ylim([0.0, 1.0])\n",
        "plt.legend(loc='lower right');"
      ]
    },
    {
      "cell_type": "code",
      "execution_count": null,
      "metadata": {
        "colab": {
          "base_uri": "https://localhost:8080/",
          "height": 283
        },
        "id": "WfXQvtW4cCsI",
        "outputId": "49ee8ce4-b1f7-4ce2-fd77-0144fcf883a0"
      },
      "outputs": [
        {
          "output_type": "display_data",
          "data": {
            "text/plain": [
              "<Figure size 432x288 with 1 Axes>"
            ],
            "image/png": "[encoded data removed]"
          },
          "metadata": {
            "needs_background": "light"
          }
        }
      ],
      "source": [
        "plt.plot(history.history['loss'], label='loss')\n",
        "plt.xlabel('Epoch')\n",
        "plt.ylabel('Loss')\n",
        "plt.ylim([0.0, 1])\n",
        "plt.legend(loc='upper right');"
      ]
    },
    {
      "cell_type": "code",
      "execution_count": null,
      "metadata": {
        "colab": {
          "base_uri": "https://localhost:8080/",
          "height": 609
        },
        "id": "YzXtmVMLcMcw",
        "outputId": "659616d7-e04b-4e97-f643-9bf8ee923bc7"
      },
      "outputs": [
        {
          "output_type": "stream",
          "name": "stdout",
          "text": [
            "653/653 [==============================] - 1s 1ms/step\n"
          ]
        },
        {
          "output_type": "display_data",
          "data": {
            "text/plain": [
              "<Figure size 1080x720 with 2 Axes>"
            ],
            "image/png": "[encoded data removed]"
          },
          "metadata": {
            "needs_background": "light"
          }
        }
      ],
      "source": [
        "import seaborn as sns\n",
        "from sklearn.metrics import confusion_matrix\n",
        "\n",
        "plt.figure(figsize=(15, 10))\n",
        "sns.heatmap(confusion_matrix(y_true=y_test,\n",
        "                 y_pred=model_1.predict(X_test).argmax(axis=1)), annot=True,\n",
        "                 fmt=\"d\");"
      ]
    },
    {
      "cell_type": "markdown",
      "source": [
        "### Support Vector Model"
      ],
      "metadata": {
        "id": "lM47G2TgXE58"
      }
    },
    {
      "cell_type": "code",
      "execution_count": null,
      "metadata": {
        "id": "Qp_NrqdGcP8R"
      },
      "outputs": [],
      "source": [
        "from sklearn import svm"
      ]
    },
    {
      "cell_type": "code",
      "source": [
        "clf = svm.SVC()"
      ],
      "metadata": {
        "id": "dfAQaH7MXNKb"
      },
      "execution_count": null,
      "outputs": []
    },
    {
      "cell_type": "code",
      "source": [
        "clf.fit(X,y)"
      ],
      "metadata": {
        "colab": {
          "base_uri": "https://localhost:8080/",
          "height": 75
        },
        "id": "gJqzz3K6YsvO",
        "outputId": "7be625e2-3f38-4492-81c8-1b5e8d3896bb"
      },
      "execution_count": null,
      "outputs": [
        {
          "output_type": "execute_result",
          "data": {
            "text/plain": [
              "SVC()"
            ],
            "text/html": [
              "<style>#sk-container-id-1 {color: black;background-color: white;}#sk-container-id-1 pre{padding: 0;}#sk-container-id-1 div.sk-toggleable {background-color: white;}#sk-container-id-1 label.sk-toggleable__label {cursor: pointer;display: block;width: 100%;margin-bottom: 0;padding: 0.3em;box-sizing: border-box;text-align: center;}#sk-container-id-1 label.sk-toggleable__label-arrow:before {content: \"▸\";float: left;margin-right: 0.25em;color: #696969;}#sk-container-id-1 label.sk-toggleable__label-arrow:hover:before {color: black;}#sk-container-id-1 div.sk-estimator:hover label.sk-toggleable__label-arrow:before {color: black;}#sk-container-id-1 div.sk-toggleable__content {max-height: 0;max-width: 0;overflow: hidden;text-align: left;background-color: #f0f8ff;}#sk-container-id-1 div.sk-toggleable__content pre {margin: 0.2em;color: black;border-radius: 0.25em;background-color: #f0f8ff;}#sk-container-id-1 input.sk-toggleable__control:checked~div.sk-toggleable__content {max-height: 200px;max-width: 100%;overflow: auto;}#sk-container-id-1 input.sk-toggleable__control:checked~label.sk-toggleable__label-arrow:before {content: \"▾\";}#sk-container-id-1 div.sk-estimator input.sk-toggleable__control:checked~label.sk-toggleable__label {background-color: #d4ebff;}#sk-container-id-1 div.sk-label input.sk-toggleable__control:checked~label.sk-toggleable__label {background-color: #d4ebff;}#sk-container-id-1 input.sk-hidden--visually {border: 0;clip: rect(1px 1px 1px 1px);clip: rect(1px, 1px, 1px, 1px);height: 1px;margin: -1px;overflow: hidden;padding: 0;position: absolute;width: 1px;}#sk-container-id-1 div.sk-estimator {font-family: monospace;background-color: #f0f8ff;border: 1px dotted black;border-radius: 0.25em;box-sizing: border-box;margin-bottom: 0.5em;}#sk-container-id-1 div.sk-estimator:hover {background-color: #d4ebff;}#sk-container-id-1 div.sk-parallel-item::after {content: \"\";width: 100%;border-bottom: 1px solid gray;flex-grow: 1;}#sk-container-id-1 div.sk-label:hover label.sk-toggleable__label {background-color: #d4ebff;}#sk-container-id-1 div.sk-serial::before {content: \"\";position: absolute;border-left: 1px solid gray;box-sizing: border-box;top: 0;bottom: 0;left: 50%;z-index: 0;}#sk-container-id-1 div.sk-serial {display: flex;flex-direction: column;align-items: center;background-color: white;padding-right: 0.2em;padding-left: 0.2em;position: relative;}#sk-container-id-1 div.sk-item {position: relative;z-index: 1;}#sk-container-id-1 div.sk-parallel {display: flex;align-items: stretch;justify-content: center;background-color: white;position: relative;}#sk-container-id-1 div.sk-item::before, #sk-container-id-1 div.sk-parallel-item::before {content: \"\";position: absolute;border-left: 1px solid gray;box-sizing: border-box;top: 0;bottom: 0;left: 50%;z-index: -1;}#sk-container-id-1 div.sk-parallel-item {display: flex;flex-direction: column;z-index: 1;position: relative;background-color: white;}#sk-container-id-1 div.sk-parallel-item:first-child::after {align-self: flex-end;width: 50%;}#sk-container-id-1 div.sk-parallel-item:last-child::after {align-self: flex-start;width: 50%;}#sk-container-id-1 div.sk-parallel-item:only-child::after {width: 0;}#sk-container-id-1 div.sk-dashed-wrapped {border: 1px dashed gray;margin: 0 0.4em 0.5em 0.4em;box-sizing: border-box;padding-bottom: 0.4em;background-color: white;}#sk-container-id-1 div.sk-label label {font-family: monospace;font-weight: bold;display: inline-block;line-height: 1.2em;}#sk-container-id-1 div.sk-label-container {text-align: center;}#sk-container-id-1 div.sk-container {/* jupyter's `normalize.less` sets `[hidden] { display: none; }` but bootstrap.min.css set `[hidden] { display: none !important; }` so we also need the `!important` here to be able to override the default hidden behavior on the sphinx rendered scikit-learn.org. See: https://github.com/scikit-learn/scikit-learn/issues/21755 */display: inline-block !important;position: relative;}#sk-container-id-1 div.sk-text-repr-fallback {display: none;}</style><div id=\"sk-container-id-1\" class=\"sk-top-container\"><div class=\"sk-text-repr-fallback\"><pre>SVC()</pre><b>In a Jupyter environment, please rerun this cell to show the HTML representation or trust the notebook. <br />On GitHub, the HTML representation is unable to render, please try loading this page with nbviewer.org.</b></div><div class=\"sk-container\" hidden><div class=\"sk-item\"><div class=\"sk-estimator sk-toggleable\"><input class=\"sk-toggleable__control sk-hidden--visually\" id=\"sk-estimator-id-1\" type=\"checkbox\" checked><label for=\"sk-estimator-id-1\" class=\"sk-toggleable__label sk-toggleable__label-arrow\">SVC</label><div class=\"sk-toggleable__content\"><pre>SVC()</pre></div></div></div></div></div>"
            ]
          },
          "metadata": {},
          "execution_count": 33
        }
      ]
    },
    {
      "cell_type": "code",
      "source": [
        "y_pred = clf.predict(X_test)"
      ],
      "metadata": {
        "id": "2DeNqNguaZLd"
      },
      "execution_count": null,
      "outputs": []
    },
    {
      "cell_type": "code",
      "source": [
        "from sklearn.metrics import classification_report"
      ],
      "metadata": {
        "id": "o0IDwxPQY8E9"
      },
      "execution_count": null,
      "outputs": []
    },
    {
      "cell_type": "code",
      "source": [
        "print(classification_report(y_test, y_pred))"
      ],
      "metadata": {
        "colab": {
          "base_uri": "https://localhost:8080/"
        },
        "id": "yA-7pbzSZ9iL",
        "outputId": "6de8f961-b3d9-438e-ae71-079c8dffd54d"
      },
      "execution_count": null,
      "outputs": [
        {
          "output_type": "stream",
          "name": "stdout",
          "text": [
            "              precision    recall  f1-score   support\n",
            "\n",
            "           0       0.98      0.97      0.98     12712\n",
            "           1       0.96      0.98      0.97      8157\n",
            "\n",
            "    accuracy                           0.97     20869\n",
            "   macro avg       0.97      0.97      0.97     20869\n",
            "weighted avg       0.97      0.97      0.97     20869\n",
            "\n"
          ]
        }
      ]
    },
    {
      "cell_type": "code",
      "source": [
        "import seaborn as sns\n",
        "from sklearn.metrics import confusion_matrix\n",
        "\n",
        "plt.figure(figsize=(15, 10))\n",
        "sns.heatmap(confusion_matrix(y_test,\n",
        "                 y_pred), annot=True,\n",
        "                 fmt=\"d\");"
      ],
      "metadata": {
        "colab": {
          "base_uri": "https://localhost:8080/",
          "height": 592
        },
        "id": "7QsSBRW1aogp",
        "outputId": "9a315065-4448-4baa-d35d-a956f85cb281"
      },
      "execution_count": null,
      "outputs": [
        {
          "output_type": "display_data",
          "data": {
            "text/plain": [
              "<Figure size 1080x720 with 2 Axes>"
            ],
            "image/png": "[encoded data removed]"
          },
          "metadata": {
            "needs_background": "light"
          }
        }
      ]
    },
    {
      "cell_type": "code",
      "source": [
        "y_test.shape"
      ],
      "metadata": {
        "colab": {
          "base_uri": "https://localhost:8080/"
        },
        "id": "nOVacOima47L",
        "outputId": "b58e540f-e59d-4ac4-e717-3c1129690860"
      },
      "execution_count": null,
      "outputs": [
        {
          "output_type": "execute_result",
          "data": {
            "text/plain": [
              "(20869,)"
            ]
          },
          "metadata": {},
          "execution_count": 38
        }
      ]
    },
    {
      "cell_type": "code",
      "source": [],
      "metadata": {
        "id": "WrmXV0urbLkA"
      },
      "execution_count": null,
      "outputs": []
    }
  ],
  "metadata": {
    "colab": {
      "provenance": []
    },
    "kernelspec": {
      "display_name": "Python 3",
      "name": "python3"
    },
    "language_info": {
      "name": "python"
    }
  },
  "nbformat": 4,
  "nbformat_minor": 0
}